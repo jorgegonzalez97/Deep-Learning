{
 "cells": [
  {
   "cell_type": "markdown",
   "metadata": {},
   "source": [
    "# CS-577: Deep Learning. Assignment 0"
   ]
  },
  {
   "cell_type": "markdown",
   "metadata": {},
   "source": [
    "#### Student:             Jorge Gonzalez Lopez\n",
    "#### CWID:                 A20474413\n",
    "#### Semester:          Spring 2021"
   ]
  },
  {
   "cell_type": "code",
   "execution_count": 1,
   "metadata": {},
   "outputs": [],
   "source": [
    "import numpy as np\n",
    "import math"
   ]
  },
  {
   "cell_type": "markdown",
   "metadata": {},
   "source": [
    "### Exercise A"
   ]
  },
  {
   "cell_type": "code",
   "execution_count": 2,
   "metadata": {},
   "outputs": [],
   "source": [
    "a = np.array([1,2,3])\n",
    "b = np.array([4,5,6])\n",
    "c = np.array([-1,1,3])"
   ]
  },
  {
   "cell_type": "code",
   "execution_count": 3,
   "metadata": {},
   "outputs": [
    {
     "name": "stdout",
     "output_type": "stream",
     "text": [
      "1. 2a - b is equal to:  [-2 -1  0]\n"
     ]
    }
   ],
   "source": [
    "r = 2*a - b\n",
    "\n",
    "print('1. 2a - b is equal to: ' , r)"
   ]
  },
  {
   "cell_type": "code",
   "execution_count": 4,
   "metadata": {},
   "outputs": [
    {
     "name": "stdout",
     "output_type": "stream",
     "text": [
      "2. Unit vector in the direction of a =  [0.26726124 0.53452248 0.80178373]\n"
     ]
    }
   ],
   "source": [
    "r = a / np.linalg.norm(a)\n",
    "\n",
    "print('2. Unit vector in the direction of a = ', r)"
   ]
  },
  {
   "cell_type": "code",
   "execution_count": 5,
   "metadata": {},
   "outputs": [
    {
     "name": "stdout",
     "output_type": "stream",
     "text": [
      "3. |a| =  3.7416573867739413  , and the angle of a relative to the positive x axis:  74.498640433063 º\n"
     ]
    }
   ],
   "source": [
    "i = np.array([1,0,0])\n",
    "\n",
    "r = np.linalg.norm(a)\n",
    "theta = math.acos(np.inner(a,i)/(np.linalg.norm(a)*np.linalg.norm(i)))\n",
    "                  \n",
    "print('3. |a| = ', r , ' , and the angle of a relative to the positive x axis: ', math.degrees(theta), 'º')"
   ]
  },
  {
   "cell_type": "code",
   "execution_count": 6,
   "metadata": {},
   "outputs": [
    {
     "name": "stdout",
     "output_type": "stream",
     "text": [
      "4. Direction cosines: cos(a) =  0.2672612419124244  , cos(b) =  0.5345224838248488  ,cos(c) =  0.8017837257372732\n"
     ]
    }
   ],
   "source": [
    "i = np.array([1,0,0])\n",
    "j = np.array([0,1,0])\n",
    "k = np.array([0,0,1])\n",
    "\n",
    "cos_a = np.inner(a,i)/(np.linalg.norm(a)*np.linalg.norm(i))\n",
    "cos_b = np.inner(a,j)/(np.linalg.norm(a)*np.linalg.norm(j))\n",
    "cos_c = np.inner(a,k)/(np.linalg.norm(a)*np.linalg.norm(k))\n",
    "\n",
    "print('4. Direction cosines: cos(a) = ', cos_a , ' , cos(b) = ', cos_b , ' ,cos(c) = ', cos_c )"
   ]
  },
  {
   "cell_type": "code",
   "execution_count": 7,
   "metadata": {},
   "outputs": [
    {
     "name": "stdout",
     "output_type": "stream",
     "text": [
      "5. The angle between the vectors a and b is:  12.933154491899135 º\n"
     ]
    }
   ],
   "source": [
    "theta = math.acos(np.inner(a,b)/(np.linalg.norm(a)*np.linalg.norm(b)))\n",
    "\n",
    "print('5. The angle between the vectors a and b is: ', math.degrees(theta), 'º')"
   ]
  },
  {
   "cell_type": "code",
   "execution_count": 8,
   "metadata": {},
   "outputs": [
    {
     "name": "stdout",
     "output_type": "stream",
     "text": [
      "6. ab =  32  and ba =  32\n"
     ]
    }
   ],
   "source": [
    "r = np.inner(a,b)\n",
    "r2 = np.inner(b,a)\n",
    "\n",
    "print('6. ab = ', r, ' and ba = ', r2)"
   ]
  },
  {
   "cell_type": "code",
   "execution_count": 9,
   "metadata": {},
   "outputs": [
    {
     "name": "stdout",
     "output_type": "stream",
     "text": [
      "7. ab using the angle between them =  32.00040453080565\n"
     ]
    }
   ],
   "source": [
    "theta = 12.93\n",
    "r = (np.linalg.norm(a)*np.linalg.norm(b)) * math.cos(math.radians(theta))\n",
    "\n",
    "print('7. ab using the angle between them = ', r)"
   ]
  },
  {
   "cell_type": "code",
   "execution_count": 10,
   "metadata": {},
   "outputs": [
    {
     "name": "stdout",
     "output_type": "stream",
     "text": [
      "8. Scalar projection of b onto a =  8.55235974119758\n"
     ]
    }
   ],
   "source": [
    "r = np.inner(a,b)/ np.linalg.norm(a)\n",
    "\n",
    "print('8. Scalar projection of b onto a = ', r)"
   ]
  },
  {
   "cell_type": "code",
   "execution_count": 11,
   "metadata": {},
   "outputs": [
    {
     "name": "stdout",
     "output_type": "stream",
     "text": [
      "9. One perpendicular vector to a would be =  [ 3.  0. -1.]\n"
     ]
    }
   ],
   "source": [
    "X = np.array([a,[0,1,0],[0,0,1]])\n",
    "## I determine the t_2 and t_3 values (0 and -1 respectively) and I calculate the t_1 value to get a zero inner product.\n",
    "r = np.linalg.solve(X,np.array([0,0,-1]))\n",
    "\n",
    "print('9. One perpendicular vector to a would be = ', r)"
   ]
  },
  {
   "cell_type": "code",
   "execution_count": 12,
   "metadata": {
    "scrolled": true
   },
   "outputs": [
    {
     "name": "stdout",
     "output_type": "stream",
     "text": [
      "10. Shapes (1,3) and (1,3) not aligned: 3 (dim 1) != 1 (dim 0)\n"
     ]
    }
   ],
   "source": [
    "a_p = np.array([1,2,3],ndmin = 2)\n",
    "b_p = np.array([4,5,6], ndmin = 2)\n",
    "\n",
    "try:\n",
    "    r = np.dot(a_p,b_p)\n",
    "except:\n",
    "    print('10. Shapes (1,3) and (1,3) not aligned: 3 (dim 1) != 1 (dim 0)')\n"
   ]
  },
  {
   "cell_type": "code",
   "execution_count": 13,
   "metadata": {},
   "outputs": [
    {
     "name": "stdout",
     "output_type": "stream",
     "text": [
      "11. One perpendicular vector to a and b would be =  [ 1. -2.  1.]\n"
     ]
    }
   ],
   "source": [
    "X = np.array([a,b,[0,0,1]])\n",
    "## I determine the t_3 value (1) and I calculate the t_1 and t_2 values to get a zero inner product with a and b.\n",
    "r = np.linalg.solve(X,np.array([0,0,1]))\n",
    "\n",
    "print('11. One perpendicular vector to a and b would be = ', r)"
   ]
  },
  {
   "cell_type": "code",
   "execution_count": 14,
   "metadata": {},
   "outputs": [
    {
     "name": "stdout",
     "output_type": "stream",
     "text": [
      "12. The determinant of the matrix with the vectors as columns is:  0.0 -> linearly dependents.\n",
      "\n"
     ]
    }
   ],
   "source": [
    "X = np.array([a,b,c]).T\n",
    "\n",
    "r1 = np.linalg.det(X)\n",
    "\n",
    "print('12. The determinant of the matrix with the vectors as columns is: ', np.round(r1), '-> linearly dependents.\\n')"
   ]
  },
  {
   "cell_type": "code",
   "execution_count": 15,
   "metadata": {},
   "outputs": [
    {
     "name": "stdout",
     "output_type": "stream",
     "text": [
      "13.\n",
      " (a.T)b = \n",
      " [[ 4  5  6]\n",
      " [ 8 10 12]\n",
      " [12 15 18]] \n",
      " and a(b.T) = \n",
      " [[ 4  5  6]\n",
      " [ 8 10 12]\n",
      " [12 15 18]]\n"
     ]
    }
   ],
   "source": [
    "r = np.outer(a.T,b)\n",
    "r1 = np.outer(a,b.T)\n",
    "\n",
    "\n",
    "print('13.\\n (a.T)b = \\n', r, '\\n and a(b.T) = \\n', r1)"
   ]
  },
  {
   "cell_type": "markdown",
   "metadata": {},
   "source": [
    "### Exercise B"
   ]
  },
  {
   "cell_type": "code",
   "execution_count": 16,
   "metadata": {},
   "outputs": [],
   "source": [
    "A = np.array([[1,2,3],[4,-2,3],[0,5,-1]])\n",
    "B = np.array([[1,2,1],[2,1,-4],[3,-2,1]])\n",
    "C = np.array([[1,2,3],[4,5,6],[-1,1,3]])\n",
    "d = np.array([1,2,3])"
   ]
  },
  {
   "cell_type": "code",
   "execution_count": 17,
   "metadata": {},
   "outputs": [
    {
     "name": "stdout",
     "output_type": "stream",
     "text": [
      "1. 2A - B is equal to: \n",
      " [[ 1  2  5]\n",
      " [ 6 -5 10]\n",
      " [-3 12 -3]]\n"
     ]
    }
   ],
   "source": [
    "r = 2*A - B\n",
    "\n",
    "print('1. 2A - B is equal to: \\n' , r)"
   ]
  },
  {
   "cell_type": "code",
   "execution_count": 18,
   "metadata": {},
   "outputs": [
    {
     "name": "stdout",
     "output_type": "stream",
     "text": [
      "2.\n",
      " AB = \n",
      " [[ 14  -2  -4]\n",
      " [  9   0  15]\n",
      " [  7   7 -21]] \n",
      " BA = \n",
      " [[  9   3   8]\n",
      " [  6 -18  13]\n",
      " [ -5  15   2]]\n"
     ]
    }
   ],
   "source": [
    "r = np.matmul(A,B)\n",
    "r1 = np.matmul(B,A)\n",
    "\n",
    "print('2.\\n AB = \\n' , r,'\\n BA = \\n', r1)"
   ]
  },
  {
   "cell_type": "code",
   "execution_count": 19,
   "metadata": {},
   "outputs": [
    {
     "name": "stdout",
     "output_type": "stream",
     "text": [
      "3.\n",
      " (AB).T = \n",
      " [[ 14   9   7]\n",
      " [ -2   0   7]\n",
      " [ -4  15 -21]] \n",
      " (B.T)(A.T) = \n",
      " [[ 14   9   7]\n",
      " [ -2   0   7]\n",
      " [ -4  15 -21]]\n"
     ]
    }
   ],
   "source": [
    "r = (np.matmul(A,B)).T\n",
    "r1 = np.matmul(B.T,A.T)\n",
    "\n",
    "print('3.\\n (AB).T = \\n' , r,'\\n (B.T)(A.T) = \\n', r1)"
   ]
  },
  {
   "cell_type": "code",
   "execution_count": 20,
   "metadata": {},
   "outputs": [
    {
     "name": "stdout",
     "output_type": "stream",
     "text": [
      "4.|A| =  55.0  and |C| =  0.0\n",
      "C is a singular matrix\n"
     ]
    }
   ],
   "source": [
    "r = np.linalg.det(A)\n",
    "r1 = np.linalg.det(C)\n",
    "\n",
    "print('4.|A| = ' , np.round(r),' and |C| = ', np.round(r1))\n",
    "print('C is a singular matrix')"
   ]
  },
  {
   "cell_type": "code",
   "execution_count": 21,
   "metadata": {},
   "outputs": [
    {
     "name": "stdout",
     "output_type": "stream",
     "text": [
      "5.\n",
      " (A.T)A = \n",
      " [[ 14   9   7]\n",
      " [  9  29 -13]\n",
      " [  7 -13  26]] \n",
      " (B.T)(B) = \n",
      " [[ 6  0  0]\n",
      " [ 0 21  0]\n",
      " [ 0  0 14]]\n",
      "B rows form an orthogonal set\n"
     ]
    }
   ],
   "source": [
    "r = np.matmul(A,A.T)\n",
    "r1 = np.matmul(B,B.T)\n",
    "\n",
    "print('5.\\n (A.T)A = \\n' , r,'\\n (B.T)(B) = \\n', r1)\n",
    "print('B rows form an orthogonal set')"
   ]
  },
  {
   "cell_type": "code",
   "execution_count": 22,
   "metadata": {},
   "outputs": [
    {
     "name": "stdout",
     "output_type": "stream",
     "text": [
      "6.\n",
      " A^(-1) = \n",
      " [[-0.23636364  0.30909091  0.21818182]\n",
      " [ 0.07272727 -0.01818182  0.16363636]\n",
      " [ 0.36363636 -0.09090909 -0.18181818]] \n",
      " B^(-1) = \n",
      " [[ 0.16666667  0.0952381   0.21428571]\n",
      " [ 0.33333333  0.04761905 -0.14285714]\n",
      " [ 0.16666667 -0.19047619  0.07142857]]\n"
     ]
    }
   ],
   "source": [
    "r = np.linalg.inv(A)\n",
    "r1 = np.linalg.inv(B)\n",
    "\n",
    "print('6.\\n A^(-1) = \\n' , r,'\\n B^(-1) = \\n', r1)\n"
   ]
  },
  {
   "cell_type": "code",
   "execution_count": 23,
   "metadata": {},
   "outputs": [
    {
     "name": "stdout",
     "output_type": "stream",
     "text": [
      "7.\n",
      " C^(-1) = \n",
      " [[ 1.20095990e+16 -4.00319967e+15 -4.00319967e+15]\n",
      " [-2.40191980e+16  8.00639934e+15  8.00639934e+15]\n",
      " [ 1.20095990e+16 -4.00319967e+15 -4.00319967e+15]]\n",
      "Note: Very large values as |C| is approximately zero. In theory +- Inf.\n"
     ]
    }
   ],
   "source": [
    "r = np.linalg.inv(C)\n",
    "\n",
    "print('7.\\n C^(-1) = \\n' , r)\n",
    "print('Note: Very large values as |C| is approximately zero. In theory +- Inf.')"
   ]
  },
  {
   "cell_type": "code",
   "execution_count": 24,
   "metadata": {},
   "outputs": [
    {
     "name": "stdout",
     "output_type": "stream",
     "text": [
      "8.\n",
      " Ad = \n",
      " [14  9  7]\n"
     ]
    }
   ],
   "source": [
    "r = np.dot(A,d)\n",
    "\n",
    "print('8.\\n Ad = \\n' , r)\n"
   ]
  },
  {
   "cell_type": "code",
   "execution_count": 25,
   "metadata": {},
   "outputs": [
    {
     "name": "stdout",
     "output_type": "stream",
     "text": [
      "9.\n",
      " Projection of rows from A onto d = \n",
      " [3.74165739 2.40535118 1.87082869]\n"
     ]
    }
   ],
   "source": [
    "r = np.matmul(A,d)/np.linalg.norm(d)\n",
    "\n",
    "print('9.\\n Projection of rows from A onto d = \\n' , r)\n"
   ]
  },
  {
   "cell_type": "code",
   "execution_count": 26,
   "metadata": {},
   "outputs": [
    {
     "name": "stdout",
     "output_type": "stream",
     "text": [
      "10.\n",
      " Linear combination of the colums of A using the vector d = \n",
      " [14  9  7]\n"
     ]
    }
   ],
   "source": [
    "A_T = A.T\n",
    "\n",
    "r = d[0]*A_T[0]+ d[1]*A_T[1]+d[2]*A_T[2]\n",
    "\n",
    "print('10.\\n Linear combination of the colums of A using the vector d = \\n' , r)\n"
   ]
  },
  {
   "cell_type": "code",
   "execution_count": 27,
   "metadata": {},
   "outputs": [
    {
     "name": "stdout",
     "output_type": "stream",
     "text": [
      "11.\n",
      " Bx = d => x = \n",
      " [ 1.  0. -0.]\n"
     ]
    }
   ],
   "source": [
    "r = np.linalg.solve(B,d)\n",
    "\n",
    "print('11.\\n Bx = d => x = \\n' , np.round(r))\n"
   ]
  },
  {
   "cell_type": "code",
   "execution_count": 28,
   "metadata": {},
   "outputs": [
    {
     "name": "stdout",
     "output_type": "stream",
     "text": [
      "12.\n",
      " Cx = d => x = \n",
      " [-8.00639934e+15  1.60127987e+16 -8.00639934e+15]\n",
      "Note: C is a singular matrix, so it does not have an inverse. The high numbers can be interpreted as +-Inf.\n"
     ]
    }
   ],
   "source": [
    "r = np.linalg.solve(C,d)\n",
    "\n",
    "print('12.\\n Cx = d => x = \\n' , np.round(r))\n",
    "print('Note: C is a singular matrix, so it does not have an inverse. The high numbers can be interpreted as +-Inf.')"
   ]
  },
  {
   "cell_type": "markdown",
   "metadata": {},
   "source": [
    "### Exercise C"
   ]
  },
  {
   "cell_type": "code",
   "execution_count": 29,
   "metadata": {},
   "outputs": [],
   "source": [
    "D = np.array([[1,2],[3,2]])\n",
    "E = np.array([[2,-2],[-2,5]])\n",
    "F = np.array([[1,2],[2,4]])"
   ]
  },
  {
   "cell_type": "code",
   "execution_count": 30,
   "metadata": {},
   "outputs": [
    {
     "name": "stdout",
     "output_type": "stream",
     "text": [
      "1. \n",
      " The eigenvalues of D are:  -1.0  and  4.0\n",
      " and the normalized eigenvectors are:  [-0.70710678  0.70710678]  and  [-0.5547002  -0.83205029]\n"
     ]
    }
   ],
   "source": [
    "r = np.linalg.eig(D)\n",
    "\n",
    "print('1. \\n The eigenvalues of D are: ' , r[0][0], ' and ', r[0][1])\n",
    "print(' and the normalized eigenvectors are: ' , r[1][:,0], ' and ', r[1][:,1])"
   ]
  },
  {
   "cell_type": "code",
   "execution_count": 31,
   "metadata": {},
   "outputs": [
    {
     "name": "stdout",
     "output_type": "stream",
     "text": [
      "2. \n",
      " The dot product between the eigenvectors of D is:  -0.038461538461538214\n"
     ]
    }
   ],
   "source": [
    "r2 = np.dot(r[1][0],r[1][1])\n",
    "\n",
    "print('2. \\n The dot product between the eigenvectors of D is: ' , r2)"
   ]
  },
  {
   "cell_type": "code",
   "execution_count": 32,
   "metadata": {},
   "outputs": [
    {
     "name": "stdout",
     "output_type": "stream",
     "text": [
      "3. \n",
      " The eigenvalues of E are:  1.0  and  6.0\n",
      " and the normalized eigenvectors are:  [-0.89442719 -0.4472136 ]  and  [ 0.4472136  -0.89442719]\n",
      "\n",
      " The dot product between the eigenvectors of E is:  0.0\n"
     ]
    }
   ],
   "source": [
    "r = np.linalg.eig(E)\n",
    "r2 = np.dot(r[1][:,0],r[1][:,1])\n",
    "\n",
    "print('3. \\n The eigenvalues of E are: ' , r[0][0], ' and ', r[0][1])\n",
    "print(' and the normalized eigenvectors are: ' , r[1][:,0], ' and ', r[1][:,1])\n",
    "print('\\n The dot product between the eigenvectors of E is: ' , r2)"
   ]
  },
  {
   "cell_type": "code",
   "execution_count": 33,
   "metadata": {},
   "outputs": [
    {
     "name": "stdout",
     "output_type": "stream",
     "text": [
      "4. \n",
      " The eigenvectors of E are orthogonal between each other (their inner product is 0)\n"
     ]
    }
   ],
   "source": [
    "print('4. \\n The eigenvectors of E are orthogonal between each other (their inner product is 0)')"
   ]
  },
  {
   "cell_type": "code",
   "execution_count": 34,
   "metadata": {},
   "outputs": [
    {
     "name": "stdout",
     "output_type": "stream",
     "text": [
      "5. \n",
      " |F| =  0.0  and therefore, it does not have a trivial solution (unique solution when the determinant is 0)\n"
     ]
    }
   ],
   "source": [
    "r = np.linalg.det(F)\n",
    "\n",
    "print('5. \\n |F| = ' , np.round(r), ' and therefore, it does not have a trivial solution (unique solution when the determinant is 0)')\n"
   ]
  },
  {
   "cell_type": "code",
   "execution_count": 35,
   "metadata": {},
   "outputs": [
    {
     "name": "stdout",
     "output_type": "stream",
     "text": [
      "6. \n",
      " One solution to Fx = 0 is:  [-2.  1.] and another solution would be:  [-6.  3.]\n"
     ]
    }
   ],
   "source": [
    "F1 = np.array([F[0], [0,1]])\n",
    "r1 = np.linalg.solve(F1, np.array([0,1]))\n",
    "# I determine the value of x_2 (1) and calculate x_1, so that the product is 0\n",
    "F2 = np.array([F[0], [0,1]])\n",
    "r2 = np.linalg.solve(F2, np.array([0,3]))\n",
    "# I determine the value of x_2 (3) and calculate x_1, so that the product is 0\n",
    "\n",
    "print('6. \\n One solution to Fx = 0 is: ', r1, 'and another solution would be: ', r2 )"
   ]
  },
  {
   "cell_type": "code",
   "execution_count": 36,
   "metadata": {},
   "outputs": [
    {
     "name": "stdout",
     "output_type": "stream",
     "text": [
      "7. \n",
      " |D| =  -4.0 , so as the determinant is non-zero, it has a trivial solution (unique one)\n",
      "The trivial solution is:  [0. 0.]\n"
     ]
    }
   ],
   "source": [
    "r = np.linalg.det(D)\n",
    "\n",
    "r1 = np.linalg.solve(D, np.array([0,0]))\n",
    "\n",
    "print('7. \\n |D| = ', np.round(r) , ', so as the determinant is non-zero, it has a trivial solution (unique one)')\n",
    "print('The trivial solution is: ', r1)"
   ]
  },
  {
   "cell_type": "code",
   "execution_count": null,
   "metadata": {},
   "outputs": [],
   "source": []
  }
 ],
 "metadata": {
  "kernelspec": {
   "display_name": "Python 3",
   "language": "python",
   "name": "python3"
  },
  "language_info": {
   "codemirror_mode": {
    "name": "ipython",
    "version": 3
   },
   "file_extension": ".py",
   "mimetype": "text/x-python",
   "name": "python",
   "nbconvert_exporter": "python",
   "pygments_lexer": "ipython3",
   "version": "3.7.4"
  }
 },
 "nbformat": 4,
 "nbformat_minor": 2
}
