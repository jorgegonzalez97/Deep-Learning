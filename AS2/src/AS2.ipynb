{
 "cells": [
  {
   "cell_type": "markdown",
   "metadata": {},
   "source": [
    "# CS-577: Deep Learning. Homework 2"
   ]
  },
  {
   "cell_type": "markdown",
   "metadata": {},
   "source": [
    "#### Student:             Jorge Gonzalez Lopez\n",
    "#### CWID:                 A20474413\n",
    "#### Semester:          Spring 2021"
   ]
  },
  {
   "cell_type": "code",
   "execution_count": 34,
   "metadata": {},
   "outputs": [],
   "source": [
    "import numpy as np\n",
    "import matplotlib.pyplot as plt\n",
    "import pandas as pd\n",
    "from sklearn.utils import shuffle\n",
    "import pickle"
   ]
  },
  {
   "cell_type": "markdown",
   "metadata": {},
   "source": [
    "There are four types of nodes:\n",
    " - Multiplication Nodes (Linear nodes)\n",
    " - Sigmoid Nodes\n",
    " - Softmax Node\n",
    " - Loss Node"
   ]
  },
  {
   "cell_type": "code",
   "execution_count": 2,
   "metadata": {},
   "outputs": [],
   "source": [
    "class LinearNode():\n",
    "    \n",
    "    def forward(self, X, W, b):\n",
    "        \n",
    "        Z = np.dot(W,X) + b\n",
    "        self.X = X\n",
    "        self.W = W\n",
    "        self.b = b\n",
    "        \n",
    "        return Z\n",
    "    \n",
    "    def backward(self, dZ):\n",
    "        \n",
    "        dX = np.dot(dZ.T,self.W).T\n",
    "        dW = np.dot(dZ,self.X.T)\n",
    "        db = dZ.sum(axis=1, keepdims = True)\n",
    "        self.dX = dX\n",
    "        self.dW = dW\n",
    "        self.db = db\n",
    "        \n",
    "        return dX, dW, db"
   ]
  },
  {
   "cell_type": "code",
   "execution_count": 3,
   "metadata": {},
   "outputs": [],
   "source": [
    "class SigmoidNode:\n",
    "    def forward(self,Z):\n",
    "        A = (1 / (1 + np.exp(-Z)))\n",
    "        self.A = A\n",
    "        return A\n",
    "    def backward(self,dA):\n",
    "        dZ = (self.A * (1 - self.A)) * dA\n",
    "        return dZ\n",
    "        "
   ]
  },
  {
   "cell_type": "code",
   "execution_count": 4,
   "metadata": {},
   "outputs": [],
   "source": [
    "class SoftmaxNode:\n",
    "    def forward(self,Z):\n",
    "        A = (np.exp(Z)/np.sum(np.exp(Z), axis = 0))\n",
    "        self.A = A\n",
    "        return A\n",
    "    def backward(self,dA):\n",
    "        dZ = dA\n",
    "        return dZ"
   ]
  },
  {
   "cell_type": "code",
   "execution_count": 5,
   "metadata": {},
   "outputs": [],
   "source": [
    "class LossNode:\n",
    "    def forward(self, Y , A_L):\n",
    "        self.Y = Y\n",
    "        self.A_L = A_L\n",
    "        E = - (1/Y.shape[1]) * np.sum(Y * np.log(A_L))\n",
    "        self.E = E\n",
    "        #Accuracy\n",
    "        A = 0\n",
    "        for i in range(Y.shape[1]):\n",
    "            idx = np.argmax(A_L[:,i])\n",
    "            A += Y[idx,i]\n",
    "        A = 100 * A / Y.shape[1]\n",
    "        \n",
    "        self.A = A\n",
    "        \n",
    "        return self.E, self.A\n",
    "    \n",
    "    def backward(self):\n",
    "        return self.A_L - self.Y"
   ]
  },
  {
   "cell_type": "markdown",
   "metadata": {},
   "source": [
    "When creating a Model with a certain dimensions:\n",
    "    - It automatically initializes the weights and biases.\n",
    "    - It creates the fixed structure of 2 hidden layers with sigmoid activation and an output layer with softmax activation."
   ]
  },
  {
   "cell_type": "code",
   "execution_count": 6,
   "metadata": {},
   "outputs": [],
   "source": [
    "class Model:\n",
    "    \n",
    "    def __init__(self, dimensions):\n",
    "        \n",
    "        self.num_layers = len(dimensions)\n",
    "        \n",
    "        self.layer_neurons = dimensions\n",
    "        \n",
    "        \n",
    "        self.parameters={}\n",
    "    \n",
    "        self.parameters['W1'] = np.random.randn(dimensions[1],dimensions[0])/10\n",
    "        self.parameters['b1'] = np.random.randn(dimensions[1],1)/10\n",
    "        self.parameters['W2'] = np.random.randn(dimensions[2],dimensions[1])/10\n",
    "        self.parameters['b2'] = np.random.randn(dimensions[2],1)/10\n",
    "        self.parameters['v'] = np.random.randn(dimensions[3],dimensions[2])/10\n",
    "        self.parameters['v0'] = np.random.randn(dimensions[3],1)/10\n",
    "        \n",
    "        self.model = []\n",
    "        \n",
    "        self.model.append(LinearNode())\n",
    "        self.model.append(SigmoidNode())\n",
    "        \n",
    "        self.model.append(LinearNode())\n",
    "        self.model.append(SigmoidNode())\n",
    "        \n",
    "        self.model.append(LinearNode())\n",
    "        self.model.append(SoftmaxNode())\n",
    "        \n",
    "        self.model.append(LossNode())\n",
    "    \n",
    "    def forward(self, X, Y):\n",
    "        \n",
    "        Z1 = self.model[0].forward(X, self.parameters['W1'], self.parameters['b1'])\n",
    "        A1 = self.model[1].forward(Z1)\n",
    "        \n",
    "        Z2 = self.model[2].forward(A1, self.parameters['W2'], self.parameters['b2'])\n",
    "        A2 = self.model[3].forward(Z2)\n",
    "        \n",
    "        Z3 = self.model[4].forward(A2, self.parameters['v'], self.parameters['v0'])\n",
    "        A3 = self.model[5].forward(Z3)\n",
    "        \n",
    "        E, A = self.model[6].forward(Y,A3)\n",
    "        \n",
    "        return E, A\n",
    "    \n",
    "    def backward(self):\n",
    "        \n",
    "        dE = self.model[6].backward()\n",
    "        \n",
    "        dsoft = self.model[5].backward(dE) \n",
    "        dZ3, self.dv, self.dv0 = self.model[4].backward(dsoft)\n",
    "        \n",
    "        dsig = self.model[3].backward(dZ3)\n",
    "        dZ2, self.dW2, self.db2 = self.model[2].backward(dsig)\n",
    "\n",
    "        dsig = self.model[1].backward(dZ2)\n",
    "        dZ1, self.dW1, self.db1 = self.model[0].backward(dsig)\n",
    "    \n",
    "    def params_update(self, learning_rate):\n",
    "        \n",
    "        self.parameters['W1'] -= learning_rate*self.dW1\n",
    "        self.parameters['b1'] -= learning_rate*self.db1\n",
    "        self.parameters['W2'] -= learning_rate*self.dW2\n",
    "        self.parameters['b2'] -= learning_rate*self.db2\n",
    "        self.parameters['v'] -= learning_rate*self.dv\n",
    "        self.parameters['v0'] -= learning_rate*self.dv0\n",
    "    \n",
    "    def fit(self, X_t, Y_t, X_v, Y_v, learning_rate, iterations):\n",
    "        \n",
    "        loss = []\n",
    "        val_loss = []\n",
    "        accuracy = []\n",
    "        val_accuracy = []\n",
    "\n",
    "        for i in range(1, iterations+1):\n",
    "\n",
    "            E, A = self.forward(X_t.T, Y_t.T)\n",
    "            E_v, A_v = self.forward(X_v.T, Y_v.T)\n",
    "            \n",
    "            loss.append(E)\n",
    "            val_loss.append(E_v)\n",
    "            accuracy.append(A)\n",
    "            val_accuracy.append(A_v)\n",
    "            \n",
    "            self.backward()\n",
    "            self.params_update(learning_rate)\n",
    "            \n",
    "            if i % 10 == 0:\n",
    "                print (\"Iteration number %i / %i: Loss: %f, Acc: %f, Val. Loss: %f, Val. Acc: %f\" %(i, iterations, E, A, E_v, A_v))\n",
    "\n",
    "        self.loss = loss\n",
    "        self.val_loss = val_loss\n",
    "        self.accuracy = accuracy\n",
    "        self.val_accuracy = val_accuracy\n",
    "        self.iterations = iterations\n",
    "    \n",
    "    \n",
    "    def print_results(self):\n",
    "        \n",
    "        plt.plot(range(self.iterations), self.loss)\n",
    "        plt.plot(range(self.iterations), self.val_loss)\n",
    "        plt.ylabel('Loss')\n",
    "        plt.xlabel('Iterations')\n",
    "        plt.legend(['Train', 'Val'])\n",
    "        plt.show()\n",
    "\n",
    "        plt.plot(range(self.iterations),self.accuracy)\n",
    "        plt.plot(range(self.iterations),self.val_accuracy)\n",
    "        plt.ylabel('Accuracy')\n",
    "        plt.xlabel('Iterations')\n",
    "        plt.legend(['Train', 'Val'])\n",
    "        plt.show()\n",
    "    \n",
    "    def test(self, X, Y):\n",
    "        \n",
    "        E, A = self.forward(X.T, Y.T)\n",
    "        print(\"Loss = \", E)\n",
    "        print(\"Accuracy = \", A)\n",
    "        \n",
    "\n"
   ]
  },
  {
   "cell_type": "markdown",
   "metadata": {},
   "source": [
    "## Iris dataset"
   ]
  },
  {
   "cell_type": "code",
   "execution_count": 17,
   "metadata": {},
   "outputs": [],
   "source": [
    "data = pd.read_csv('https://archive.ics.uci.edu/ml/machine-learning-databases/iris/iris.data', delimiter=',', header = None, names=['0','1','2','3','4'])"
   ]
  },
  {
   "cell_type": "code",
   "execution_count": 18,
   "metadata": {},
   "outputs": [],
   "source": [
    "X = np.array(data[['0','1','2','3']])\n",
    "y = np.array(pd.get_dummies(data['4']))\n",
    "\n",
    "X, Y = shuffle(X, y, random_state=2021)\n",
    "\n",
    "# Split train/val\n",
    "n_train = int(0.7*X.shape[0])\n",
    "\n",
    "n_val = n_train + int(0.15*X.shape[0])\n",
    "\n",
    "X_train = X[:n_train]\n",
    "Y_train = Y[:n_train]\n",
    "\n",
    "X_val = X[n_train:n_val]\n",
    "Y_val = Y[n_train: n_val]\n",
    "\n",
    "X_test = X[n_val:]\n",
    "Y_test = Y[n_val:]"
   ]
  },
  {
   "cell_type": "code",
   "execution_count": 19,
   "metadata": {},
   "outputs": [],
   "source": [
    "model1 = Model([4, 32, 64, 3])"
   ]
  },
  {
   "cell_type": "code",
   "execution_count": 20,
   "metadata": {},
   "outputs": [
    {
     "name": "stdout",
     "output_type": "stream",
     "text": [
      "Iteration number 10 / 1000: Loss: 1.253279, Acc: 30.476190, Val. Loss: 0.989499, Val. Acc: 45.454545\n",
      "Iteration number 20 / 1000: Loss: 1.248300, Acc: 30.476190, Val. Loss: 0.983536, Val. Acc: 45.454545\n",
      "Iteration number 30 / 1000: Loss: 1.241877, Acc: 30.476190, Val. Loss: 0.975937, Val. Acc: 45.454545\n",
      "Iteration number 40 / 1000: Loss: 1.233132, Acc: 30.476190, Val. Loss: 0.965523, Val. Acc: 45.454545\n",
      "Iteration number 50 / 1000: Loss: 1.220675, Acc: 56.190476, Val. Loss: 0.950556, Val. Acc: 77.272727\n",
      "Iteration number 60 / 1000: Loss: 1.202350, Acc: 63.809524, Val. Loss: 0.928344, Val. Acc: 86.363636\n",
      "Iteration number 70 / 1000: Loss: 1.174792, Acc: 63.809524, Val. Loss: 0.894725, Val. Acc: 86.363636\n",
      "Iteration number 80 / 1000: Loss: 1.133115, Acc: 63.809524, Val. Loss: 0.843843, Val. Acc: 86.363636\n",
      "Iteration number 90 / 1000: Loss: 1.072003, Acc: 63.809524, Val. Loss: 0.770011, Val. Acc: 86.363636\n",
      "Iteration number 100 / 1000: Loss: 0.990700, Acc: 63.809524, Val. Loss: 0.674755, Val. Acc: 86.363636\n",
      "Iteration number 110 / 1000: Loss: 0.899596, Acc: 63.809524, Val. Loss: 0.574317, Val. Acc: 86.363636\n",
      "Iteration number 120 / 1000: Loss: 0.815352, Acc: 63.809524, Val. Loss: 0.489610, Val. Acc: 86.363636\n",
      "Iteration number 130 / 1000: Loss: 0.747215, Acc: 63.809524, Val. Loss: 0.428097, Val. Acc: 86.363636\n",
      "Iteration number 140 / 1000: Loss: 0.694838, Acc: 63.809524, Val. Loss: 0.385457, Val. Acc: 86.363636\n",
      "Iteration number 150 / 1000: Loss: 0.654257, Acc: 63.809524, Val. Loss: 0.355242, Val. Acc: 86.363636\n",
      "Iteration number 160 / 1000: Loss: 0.621620, Acc: 63.809524, Val. Loss: 0.332680, Val. Acc: 86.363636\n",
      "Iteration number 170 / 1000: Loss: 0.594105, Acc: 63.809524, Val. Loss: 0.314774, Val. Acc: 86.363636\n",
      "Iteration number 180 / 1000: Loss: 0.569829, Acc: 63.809524, Val. Loss: 0.299711, Val. Acc: 86.363636\n",
      "Iteration number 190 / 1000: Loss: 0.547585, Acc: 63.809524, Val. Loss: 0.286394, Val. Acc: 86.363636\n",
      "Iteration number 200 / 1000: Loss: 0.526629, Acc: 64.761905, Val. Loss: 0.274159, Val. Acc: 86.363636\n",
      "Iteration number 210 / 1000: Loss: 0.506522, Acc: 65.714286, Val. Loss: 0.262610, Val. Acc: 86.363636\n",
      "Iteration number 220 / 1000: Loss: 0.487026, Acc: 66.666667, Val. Loss: 0.251517, Val. Acc: 86.363636\n",
      "Iteration number 230 / 1000: Loss: 0.468032, Acc: 66.666667, Val. Loss: 0.240758, Val. Acc: 86.363636\n",
      "Iteration number 240 / 1000: Loss: 0.449512, Acc: 66.666667, Val. Loss: 0.230279, Val. Acc: 86.363636\n",
      "Iteration number 250 / 1000: Loss: 0.431490, Acc: 67.619048, Val. Loss: 0.220070, Val. Acc: 95.454545\n",
      "Iteration number 260 / 1000: Loss: 0.414015, Acc: 69.523810, Val. Loss: 0.210146, Val. Acc: 95.454545\n",
      "Iteration number 270 / 1000: Loss: 0.397146, Acc: 75.238095, Val. Loss: 0.200537, Val. Acc: 95.454545\n",
      "Iteration number 280 / 1000: Loss: 0.380939, Acc: 79.047619, Val. Loss: 0.191278, Val. Acc: 95.454545\n",
      "Iteration number 290 / 1000: Loss: 0.365442, Acc: 80.952381, Val. Loss: 0.182401, Val. Acc: 95.454545\n",
      "Iteration number 300 / 1000: Loss: 0.350689, Acc: 83.809524, Val. Loss: 0.173934, Val. Acc: 95.454545\n",
      "Iteration number 310 / 1000: Loss: 0.336697, Acc: 83.809524, Val. Loss: 0.165894, Val. Acc: 95.454545\n",
      "Iteration number 320 / 1000: Loss: 0.323470, Acc: 84.761905, Val. Loss: 0.158290, Val. Acc: 95.454545\n",
      "Iteration number 330 / 1000: Loss: 0.310998, Acc: 86.666667, Val. Loss: 0.151123, Val. Acc: 95.454545\n",
      "Iteration number 340 / 1000: Loss: 0.299259, Acc: 86.666667, Val. Loss: 0.144384, Val. Acc: 95.454545\n",
      "Iteration number 350 / 1000: Loss: 0.288225, Acc: 86.666667, Val. Loss: 0.138059, Val. Acc: 95.454545\n",
      "Iteration number 360 / 1000: Loss: 0.277863, Acc: 86.666667, Val. Loss: 0.132130, Val. Acc: 95.454545\n",
      "Iteration number 370 / 1000: Loss: 0.268135, Acc: 87.619048, Val. Loss: 0.126574, Val. Acc: 95.454545\n",
      "Iteration number 380 / 1000: Loss: 0.259002, Acc: 89.523810, Val. Loss: 0.121367, Val. Acc: 95.454545\n",
      "Iteration number 390 / 1000: Loss: 0.250428, Acc: 90.476190, Val. Loss: 0.116485, Val. Acc: 95.454545\n",
      "Iteration number 400 / 1000: Loss: 0.242374, Acc: 91.428571, Val. Loss: 0.111903, Val. Acc: 95.454545\n",
      "Iteration number 410 / 1000: Loss: 0.234806, Acc: 91.428571, Val. Loss: 0.107599, Val. Acc: 95.454545\n",
      "Iteration number 420 / 1000: Loss: 0.227691, Acc: 92.380952, Val. Loss: 0.103550, Val. Acc: 95.454545\n",
      "Iteration number 430 / 1000: Loss: 0.220998, Acc: 92.380952, Val. Loss: 0.099734, Val. Acc: 95.454545\n",
      "Iteration number 440 / 1000: Loss: 0.214698, Acc: 93.333333, Val. Loss: 0.096134, Val. Acc: 95.454545\n",
      "Iteration number 450 / 1000: Loss: 0.208765, Acc: 93.333333, Val. Loss: 0.092732, Val. Acc: 95.454545\n",
      "Iteration number 460 / 1000: Loss: 0.203175, Acc: 93.333333, Val. Loss: 0.089510, Val. Acc: 95.454545\n",
      "Iteration number 470 / 1000: Loss: 0.197905, Acc: 94.285714, Val. Loss: 0.086457, Val. Acc: 95.454545\n",
      "Iteration number 480 / 1000: Loss: 0.192935, Acc: 94.285714, Val. Loss: 0.083557, Val. Acc: 95.454545\n",
      "Iteration number 490 / 1000: Loss: 0.188246, Acc: 94.285714, Val. Loss: 0.080800, Val. Acc: 95.454545\n",
      "Iteration number 500 / 1000: Loss: 0.183820, Acc: 94.285714, Val. Loss: 0.078175, Val. Acc: 100.000000\n",
      "Iteration number 510 / 1000: Loss: 0.179641, Acc: 94.285714, Val. Loss: 0.075673, Val. Acc: 100.000000\n",
      "Iteration number 520 / 1000: Loss: 0.175694, Acc: 94.285714, Val. Loss: 0.073285, Val. Acc: 100.000000\n",
      "Iteration number 530 / 1000: Loss: 0.171964, Acc: 94.285714, Val. Loss: 0.071004, Val. Acc: 100.000000\n",
      "Iteration number 540 / 1000: Loss: 0.168440, Acc: 94.285714, Val. Loss: 0.068822, Val. Acc: 100.000000\n",
      "Iteration number 550 / 1000: Loss: 0.165107, Acc: 94.285714, Val. Loss: 0.066735, Val. Acc: 100.000000\n",
      "Iteration number 560 / 1000: Loss: 0.161955, Acc: 94.285714, Val. Loss: 0.064735, Val. Acc: 100.000000\n",
      "Iteration number 570 / 1000: Loss: 0.158973, Acc: 94.285714, Val. Loss: 0.062819, Val. Acc: 100.000000\n",
      "Iteration number 580 / 1000: Loss: 0.156151, Acc: 94.285714, Val. Loss: 0.060981, Val. Acc: 100.000000\n",
      "Iteration number 590 / 1000: Loss: 0.153480, Acc: 94.285714, Val. Loss: 0.059218, Val. Acc: 100.000000\n",
      "Iteration number 600 / 1000: Loss: 0.150950, Acc: 94.285714, Val. Loss: 0.057524, Val. Acc: 100.000000\n",
      "Iteration number 610 / 1000: Loss: 0.148554, Acc: 94.285714, Val. Loss: 0.055898, Val. Acc: 100.000000\n",
      "Iteration number 620 / 1000: Loss: 0.146283, Acc: 94.285714, Val. Loss: 0.054335, Val. Acc: 100.000000\n",
      "Iteration number 630 / 1000: Loss: 0.144130, Acc: 94.285714, Val. Loss: 0.052833, Val. Acc: 100.000000\n",
      "Iteration number 640 / 1000: Loss: 0.142088, Acc: 94.285714, Val. Loss: 0.051387, Val. Acc: 100.000000\n",
      "Iteration number 650 / 1000: Loss: 0.140151, Acc: 95.238095, Val. Loss: 0.049997, Val. Acc: 100.000000\n",
      "Iteration number 660 / 1000: Loss: 0.138313, Acc: 95.238095, Val. Loss: 0.048659, Val. Acc: 100.000000\n",
      "Iteration number 670 / 1000: Loss: 0.136567, Acc: 95.238095, Val. Loss: 0.047371, Val. Acc: 100.000000\n",
      "Iteration number 680 / 1000: Loss: 0.134909, Acc: 95.238095, Val. Loss: 0.046131, Val. Acc: 100.000000\n",
      "Iteration number 690 / 1000: Loss: 0.133333, Acc: 95.238095, Val. Loss: 0.044936, Val. Acc: 100.000000\n",
      "Iteration number 700 / 1000: Loss: 0.131835, Acc: 95.238095, Val. Loss: 0.043785, Val. Acc: 100.000000\n",
      "Iteration number 710 / 1000: Loss: 0.130411, Acc: 95.238095, Val. Loss: 0.042676, Val. Acc: 100.000000\n",
      "Iteration number 720 / 1000: Loss: 0.129055, Acc: 95.238095, Val. Loss: 0.041606, Val. Acc: 100.000000\n",
      "Iteration number 730 / 1000: Loss: 0.127765, Acc: 95.238095, Val. Loss: 0.040575, Val. Acc: 100.000000\n",
      "Iteration number 740 / 1000: Loss: 0.126536, Acc: 95.238095, Val. Loss: 0.039580, Val. Acc: 100.000000\n",
      "Iteration number 750 / 1000: Loss: 0.125366, Acc: 95.238095, Val. Loss: 0.038620, Val. Acc: 100.000000\n",
      "Iteration number 760 / 1000: Loss: 0.124250, Acc: 95.238095, Val. Loss: 0.037694, Val. Acc: 100.000000\n",
      "Iteration number 770 / 1000: Loss: 0.123187, Acc: 95.238095, Val. Loss: 0.036800, Val. Acc: 100.000000\n",
      "Iteration number 780 / 1000: Loss: 0.122172, Acc: 95.238095, Val. Loss: 0.035937, Val. Acc: 100.000000\n",
      "Iteration number 790 / 1000: Loss: 0.121204, Acc: 95.238095, Val. Loss: 0.035103, Val. Acc: 100.000000\n",
      "Iteration number 800 / 1000: Loss: 0.120280, Acc: 95.238095, Val. Loss: 0.034297, Val. Acc: 100.000000\n",
      "Iteration number 810 / 1000: Loss: 0.119398, Acc: 95.238095, Val. Loss: 0.033519, Val. Acc: 100.000000\n",
      "Iteration number 820 / 1000: Loss: 0.118555, Acc: 95.238095, Val. Loss: 0.032767, Val. Acc: 100.000000\n",
      "Iteration number 830 / 1000: Loss: 0.117749, Acc: 95.238095, Val. Loss: 0.032040, Val. Acc: 100.000000\n",
      "Iteration number 840 / 1000: Loss: 0.116979, Acc: 95.238095, Val. Loss: 0.031336, Val. Acc: 100.000000\n",
      "Iteration number 850 / 1000: Loss: 0.116242, Acc: 95.238095, Val. Loss: 0.030656, Val. Acc: 100.000000\n",
      "Iteration number 860 / 1000: Loss: 0.115537, Acc: 95.238095, Val. Loss: 0.029998, Val. Acc: 100.000000\n",
      "Iteration number 870 / 1000: Loss: 0.114862, Acc: 95.238095, Val. Loss: 0.029360, Val. Acc: 100.000000\n",
      "Iteration number 880 / 1000: Loss: 0.114216, Acc: 95.238095, Val. Loss: 0.028744, Val. Acc: 100.000000\n",
      "Iteration number 890 / 1000: Loss: 0.113598, Acc: 95.238095, Val. Loss: 0.028146, Val. Acc: 100.000000\n",
      "Iteration number 900 / 1000: Loss: 0.113005, Acc: 95.238095, Val. Loss: 0.027568, Val. Acc: 100.000000\n",
      "Iteration number 910 / 1000: Loss: 0.112437, Acc: 95.238095, Val. Loss: 0.027007, Val. Acc: 100.000000\n",
      "Iteration number 920 / 1000: Loss: 0.111892, Acc: 95.238095, Val. Loss: 0.026464, Val. Acc: 100.000000\n",
      "Iteration number 930 / 1000: Loss: 0.111370, Acc: 95.238095, Val. Loss: 0.025938, Val. Acc: 100.000000\n",
      "Iteration number 940 / 1000: Loss: 0.110868, Acc: 95.238095, Val. Loss: 0.025427, Val. Acc: 100.000000\n",
      "Iteration number 950 / 1000: Loss: 0.110388, Acc: 95.238095, Val. Loss: 0.024932, Val. Acc: 100.000000\n",
      "Iteration number 960 / 1000: Loss: 0.109926, Acc: 95.238095, Val. Loss: 0.024452, Val. Acc: 100.000000\n",
      "Iteration number 970 / 1000: Loss: 0.109483, Acc: 95.238095, Val. Loss: 0.023986, Val. Acc: 100.000000\n"
     ]
    },
    {
     "name": "stdout",
     "output_type": "stream",
     "text": [
      "Iteration number 980 / 1000: Loss: 0.109057, Acc: 95.238095, Val. Loss: 0.023533, Val. Acc: 100.000000\n",
      "Iteration number 990 / 1000: Loss: 0.108648, Acc: 95.238095, Val. Loss: 0.023094, Val. Acc: 100.000000\n",
      "Iteration number 1000 / 1000: Loss: 0.108255, Acc: 95.238095, Val. Loss: 0.022668, Val. Acc: 100.000000\n"
     ]
    }
   ],
   "source": [
    "Train = False\n",
    "file = 'iris.pkl'\n",
    "\n",
    "if Train:\n",
    "    model1.fit(X_train, Y_train, X_val, Y_val, 0.01, 1000)\n",
    "    pickle.dump(model1, open(file, 'wb'))\n",
    "else:\n",
    "    model1 = pickle.load(open(file, 'rb'))  "
   ]
  },
  {
   "cell_type": "code",
   "execution_count": 21,
   "metadata": {},
   "outputs": [
    {
     "data": {
      "image/png": "[encoded data removed]",
      "text/plain": [
       "<Figure size 432x288 with 1 Axes>"
      ]
     },
     "metadata": {
      "needs_background": "light"
     },
     "output_type": "display_data"
    },
    {
     "data": {
      "image/png": "[encoded data removed]",
      "text/plain": [
       "<Figure size 432x288 with 1 Axes>"
      ]
     },
     "metadata": {
      "needs_background": "light"
     },
     "output_type": "display_data"
    }
   ],
   "source": [
    "model1.print_results()"
   ]
  },
  {
   "cell_type": "code",
   "execution_count": 22,
   "metadata": {},
   "outputs": [
    {
     "name": "stdout",
     "output_type": "stream",
     "text": [
      "Loss =  0.12623702839007542\n",
      "Accuracy =  95.65217391304348\n"
     ]
    }
   ],
   "source": [
    "model1.test(X_test, Y_test)"
   ]
  },
  {
   "cell_type": "markdown",
   "metadata": {},
   "source": [
    "## Wine dataset"
   ]
  },
  {
   "cell_type": "code",
   "execution_count": 23,
   "metadata": {},
   "outputs": [],
   "source": [
    "data = pd.read_csv('https://archive.ics.uci.edu/ml/machine-learning-databases/wine-quality/winequality-white.csv', delimiter=';')"
   ]
  },
  {
   "cell_type": "code",
   "execution_count": 24,
   "metadata": {},
   "outputs": [],
   "source": [
    "y = np.array(pd.get_dummies(data[data['quality'].isin([4,5,6])]['quality']))\n",
    "X = np.array(data[data['quality'].isin([4,5,6])])[:,:11]\n",
    "\n",
    "X, Y = shuffle(X, y, random_state=2021)\n",
    "\n",
    "# Split train/val\n",
    "n_train = int(0.7*X.shape[0])\n",
    "\n",
    "n_val = n_train + int(0.15*X.shape[0])\n",
    "\n",
    "X_train = X[:n_train]\n",
    "Y_train = Y[:n_train]\n",
    "\n",
    "X_val = X[n_train:n_val]\n",
    "Y_val = Y[n_train: n_val]\n",
    "\n",
    "X_test = X[n_val:]\n",
    "Y_test = Y[n_val:]"
   ]
  },
  {
   "cell_type": "code",
   "execution_count": 29,
   "metadata": {},
   "outputs": [],
   "source": [
    "model2 = Model([11, 2, 4, 3])"
   ]
  },
  {
   "cell_type": "code",
   "execution_count": 30,
   "metadata": {},
   "outputs": [
    {
     "name": "stdout",
     "output_type": "stream",
     "text": [
      "Iteration number 10 / 500: Loss: 0.998788, Acc: 38.285928, Val. Loss: 1.004258, Val. Acc: 38.286713\n",
      "Iteration number 20 / 500: Loss: 0.931783, Acc: 57.672156, Val. Loss: 0.942328, Val. Acc: 56.293706\n",
      "Iteration number 30 / 500: Loss: 0.894743, Acc: 57.672156, Val. Loss: 0.909026, Val. Acc: 56.293706\n",
      "Iteration number 40 / 500: Loss: 0.872849, Acc: 57.672156, Val. Loss: 0.889945, Val. Acc: 56.293706\n",
      "Iteration number 50 / 500: Loss: 0.858935, Acc: 57.672156, Val. Loss: 0.878204, Val. Acc: 56.293706\n",
      "Iteration number 60 / 500: Loss: 0.849509, Acc: 57.672156, Val. Loss: 0.870500, Val. Acc: 56.293706\n",
      "Iteration number 70 / 500: Loss: 0.842792, Acc: 57.672156, Val. Loss: 0.865181, Val. Acc: 56.293706\n",
      "Iteration number 80 / 500: Loss: 0.837823, Acc: 57.672156, Val. Loss: 0.861370, Val. Acc: 56.293706\n",
      "Iteration number 90 / 500: Loss: 0.834042, Acc: 57.672156, Val. Loss: 0.858564, Val. Acc: 56.293706\n",
      "Iteration number 100 / 500: Loss: 0.831103, Acc: 57.672156, Val. Loss: 0.856457, Val. Acc: 56.293706\n",
      "Iteration number 110 / 500: Loss: 0.828777, Acc: 57.672156, Val. Loss: 0.854849, Val. Acc: 56.293706\n",
      "Iteration number 120 / 500: Loss: 0.826911, Acc: 57.672156, Val. Loss: 0.853606, Val. Acc: 56.293706\n",
      "Iteration number 130 / 500: Loss: 0.825395, Acc: 57.672156, Val. Loss: 0.852636, Val. Acc: 56.293706\n",
      "Iteration number 140 / 500: Loss: 0.824151, Acc: 57.672156, Val. Loss: 0.851870, Val. Acc: 56.293706\n",
      "Iteration number 150 / 500: Loss: 0.823119, Acc: 57.672156, Val. Loss: 0.851262, Val. Acc: 56.293706\n",
      "Iteration number 160 / 500: Loss: 0.822257, Acc: 57.672156, Val. Loss: 0.850775, Val. Acc: 56.293706\n",
      "Iteration number 170 / 500: Loss: 0.821531, Acc: 57.672156, Val. Loss: 0.850384, Val. Acc: 56.293706\n",
      "Iteration number 180 / 500: Loss: 0.820913, Acc: 57.672156, Val. Loss: 0.850067, Val. Acc: 56.293706\n",
      "Iteration number 190 / 500: Loss: 0.820385, Acc: 57.672156, Val. Loss: 0.849810, Val. Acc: 56.293706\n",
      "Iteration number 200 / 500: Loss: 0.819930, Acc: 57.672156, Val. Loss: 0.849599, Val. Acc: 56.293706\n",
      "Iteration number 210 / 500: Loss: 0.819536, Acc: 57.672156, Val. Loss: 0.849426, Val. Acc: 56.293706\n",
      "Iteration number 220 / 500: Loss: 0.819194, Acc: 57.672156, Val. Loss: 0.849284, Val. Acc: 56.293706\n",
      "Iteration number 230 / 500: Loss: 0.818895, Acc: 57.672156, Val. Loss: 0.849165, Val. Acc: 56.293706\n",
      "Iteration number 240 / 500: Loss: 0.818633, Acc: 57.672156, Val. Loss: 0.849066, Val. Acc: 56.293706\n",
      "Iteration number 250 / 500: Loss: 0.818403, Acc: 57.672156, Val. Loss: 0.848983, Val. Acc: 56.293706\n",
      "Iteration number 260 / 500: Loss: 0.818199, Acc: 57.672156, Val. Loss: 0.848912, Val. Acc: 56.293706\n",
      "Iteration number 270 / 500: Loss: 0.818018, Acc: 57.672156, Val. Loss: 0.848852, Val. Acc: 56.293706\n",
      "Iteration number 280 / 500: Loss: 0.817858, Acc: 57.672156, Val. Loss: 0.848800, Val. Acc: 56.293706\n",
      "Iteration number 290 / 500: Loss: 0.817715, Acc: 57.672156, Val. Loss: 0.848755, Val. Acc: 56.293706\n",
      "Iteration number 300 / 500: Loss: 0.817586, Acc: 57.672156, Val. Loss: 0.848715, Val. Acc: 56.293706\n",
      "Iteration number 310 / 500: Loss: 0.817471, Acc: 57.672156, Val. Loss: 0.848680, Val. Acc: 56.293706\n",
      "Iteration number 320 / 500: Loss: 0.817367, Acc: 57.672156, Val. Loss: 0.848648, Val. Acc: 56.293706\n",
      "Iteration number 330 / 500: Loss: 0.817273, Acc: 57.672156, Val. Loss: 0.848620, Val. Acc: 56.293706\n",
      "Iteration number 340 / 500: Loss: 0.817188, Acc: 57.672156, Val. Loss: 0.848594, Val. Acc: 56.293706\n",
      "Iteration number 350 / 500: Loss: 0.817110, Acc: 57.672156, Val. Loss: 0.848570, Val. Acc: 56.293706\n",
      "Iteration number 360 / 500: Loss: 0.817040, Acc: 57.672156, Val. Loss: 0.848547, Val. Acc: 56.293706\n",
      "Iteration number 370 / 500: Loss: 0.816975, Acc: 57.672156, Val. Loss: 0.848526, Val. Acc: 56.293706\n",
      "Iteration number 380 / 500: Loss: 0.816916, Acc: 57.672156, Val. Loss: 0.848506, Val. Acc: 56.293706\n",
      "Iteration number 390 / 500: Loss: 0.816862, Acc: 57.672156, Val. Loss: 0.848486, Val. Acc: 56.293706\n",
      "Iteration number 400 / 500: Loss: 0.816812, Acc: 57.672156, Val. Loss: 0.848467, Val. Acc: 56.293706\n",
      "Iteration number 410 / 500: Loss: 0.816765, Acc: 57.672156, Val. Loss: 0.848449, Val. Acc: 56.293706\n",
      "Iteration number 420 / 500: Loss: 0.816722, Acc: 57.672156, Val. Loss: 0.848431, Val. Acc: 56.293706\n",
      "Iteration number 430 / 500: Loss: 0.816682, Acc: 57.672156, Val. Loss: 0.848414, Val. Acc: 56.293706\n",
      "Iteration number 440 / 500: Loss: 0.816645, Acc: 57.672156, Val. Loss: 0.848396, Val. Acc: 56.293706\n",
      "Iteration number 450 / 500: Loss: 0.816610, Acc: 57.672156, Val. Loss: 0.848379, Val. Acc: 56.293706\n",
      "Iteration number 460 / 500: Loss: 0.816577, Acc: 57.672156, Val. Loss: 0.848361, Val. Acc: 56.293706\n",
      "Iteration number 470 / 500: Loss: 0.816546, Acc: 57.672156, Val. Loss: 0.848344, Val. Acc: 56.293706\n",
      "Iteration number 480 / 500: Loss: 0.816517, Acc: 57.672156, Val. Loss: 0.848327, Val. Acc: 56.293706\n",
      "Iteration number 490 / 500: Loss: 0.816490, Acc: 57.672156, Val. Loss: 0.848309, Val. Acc: 56.293706\n",
      "Iteration number 500 / 500: Loss: 0.816463, Acc: 57.672156, Val. Loss: 0.848292, Val. Acc: 56.293706\n"
     ]
    }
   ],
   "source": [
    "Train = False\n",
    "file = 'wine.pkl'\n",
    "    \n",
    "if Train:\n",
    "    model2.fit(X_train, Y_train, X_val, Y_val, 1e-4, 500)\n",
    "    pickle.dump(model2, open(file, 'wb'))\n",
    "else:\n",
    "    model2 = pickle.load(open(file, 'rb'))  "
   ]
  },
  {
   "cell_type": "code",
   "execution_count": 31,
   "metadata": {
    "scrolled": true
   },
   "outputs": [
    {
     "data": {
      "image/png": "[encoded data removed]",
      "text/plain": [
       "<Figure size 432x288 with 1 Axes>"
      ]
     },
     "metadata": {
      "needs_background": "light"
     },
     "output_type": "display_data"
    },
    {
     "data": {
      "image/png": "[encoded data removed]",
      "text/plain": [
       "<Figure size 432x288 with 1 Axes>"
      ]
     },
     "metadata": {
      "needs_background": "light"
     },
     "output_type": "display_data"
    }
   ],
   "source": [
    "model2.print_results()"
   ]
  },
  {
   "cell_type": "code",
   "execution_count": 32,
   "metadata": {},
   "outputs": [
    {
     "name": "stdout",
     "output_type": "stream",
     "text": [
      "Loss =  0.8165950464466671\n",
      "Accuracy =  58.362369337979096\n"
     ]
    }
   ],
   "source": [
    "model2.test(X_test, Y_test)"
   ]
  }
 ],
 "metadata": {
  "kernelspec": {
   "display_name": "Python 3",
   "language": "python",
   "name": "python3"
  },
  "language_info": {
   "codemirror_mode": {
    "name": "ipython",
    "version": 3
   },
   "file_extension": ".py",
   "mimetype": "text/x-python",
   "name": "python",
   "nbconvert_exporter": "python",
   "pygments_lexer": "ipython3",
   "version": "3.7.4"
  }
 },
 "nbformat": 4,
 "nbformat_minor": 2
}
